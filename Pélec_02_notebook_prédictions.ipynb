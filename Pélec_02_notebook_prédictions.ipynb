{
 "cells": [
  {
   "cell_type": "markdown",
   "metadata": {},
   "source": [
    "# P4 - Anticipez les besoins en consommation électrique de bâtiments\n",
    "\n",
    "# Partie 2 - modèles de prédictions\n"
   ]
  },
  {
   "cell_type": "code",
   "execution_count": 1,
   "metadata": {
    "ExecuteTime": {
     "end_time": "2021-09-18T05:28:31.643080Z",
     "start_time": "2021-09-18T05:28:28.801813Z"
    }
   },
   "outputs": [],
   "source": [
    "%matplotlib inline\n",
    "import matplotlib.pyplot as plt\n",
    "import seaborn as sns\n",
    "import pandas as pd\n",
    "import numpy as np\n",
    "\n",
    "sns.set()\n",
    "plt.style.use('seaborn-whitegrid')"
   ]
  },
  {
   "cell_type": "code",
   "execution_count": 2,
   "metadata": {
    "ExecuteTime": {
     "end_time": "2021-09-18T05:28:46.582577Z",
     "start_time": "2021-09-18T05:28:46.532327Z"
    }
   },
   "outputs": [
    {
     "name": "stdout",
     "output_type": "stream",
     "text": [
      "(1683, 62)\n"
     ]
    }
   ],
   "source": [
    "data = pd.read_csv(\"data.csv\", index_col=0)\n",
    "print(data.shape)"
   ]
  },
  {
   "cell_type": "markdown",
   "metadata": {},
   "source": [
    "## Imports et fonctions"
   ]
  },
  {
   "cell_type": "code",
   "execution_count": 3,
   "metadata": {
    "ExecuteTime": {
     "end_time": "2021-09-18T05:28:50.054786Z",
     "start_time": "2021-09-18T05:28:49.027645Z"
    }
   },
   "outputs": [],
   "source": [
    "from sklearn.model_selection import train_test_split\n",
    "from sklearn.preprocessing import StandardScaler\n",
    "\n",
    "from sklearn import metrics\n",
    "from sklearn.metrics import mean_squared_error, r2_score\n",
    "from math import sqrt\n",
    "\n",
    "from time import time\n",
    "from pprint import pprint\n",
    "\n",
    "from sklearn.linear_model import LinearRegression, Ridge,Lasso, ElasticNet\n",
    "from sklearn.ensemble import GradientBoostingRegressor, RandomForestRegressor\n",
    "from sklearn.dummy import DummyRegressor\n",
    "\n",
    "from sklearn.model_selection import GridSearchCV"
   ]
  },
  {
   "cell_type": "code",
   "execution_count": 4,
   "metadata": {
    "ExecuteTime": {
     "end_time": "2021-09-18T05:28:50.085535Z",
     "start_time": "2021-09-18T05:28:50.056150Z"
    }
   },
   "outputs": [],
   "source": [
    "def transform_dataset(X, y, numeric_features, categorical_features):\n",
    "    ''' Fonction de préprocessing '''\n",
    "    X = pd.get_dummies(X, columns=categorical_features)\n",
    "    X_train, X_test, y_train, y_test = train_test_split(X, y, test_size=0.2, random_state=42)\n",
    "    scaler = StandardScaler()\n",
    "    X_train = scaler.fit_transform(X_train)\n",
    "    X_test = scaler.transform(X_test)\n",
    "    \n",
    "    return X, X_train, X_test, y_train, y_test\n",
    "\n",
    "\n",
    "def transform_dataset_drop_cols(X, y, numeric_features, categorical_features, cols_to_drop):\n",
    "    ''' Fonction de préprocessing utilisée après sélection\n",
    "    des variables pour tester le modèle en supprimant des \n",
    "    variables catégorielles de valeur définie. '''\n",
    "    X = pd.get_dummies(X, columns=categorical_features)\n",
    "    X = X.drop(columns=cols_to_drop)\n",
    "    X_train, X_test, y_train, y_test = train_test_split(X, y, test_size=0.2, random_state=42)\n",
    "    scaler = StandardScaler()\n",
    "    X_train = scaler.fit_transform(X_train)\n",
    "    X_test = scaler.transform(X_test)\n",
    "    \n",
    "    return X, X_train, X_test, y_train, y_test\n",
    "\n",
    "\n",
    "def run_model(X_train, X_test, y_train, y_test, model, model_name, train_time=0, log=False):\n",
    "    ''' Fonction qui lance un modèle de machine learning \n",
    "    et retourne un dataset avec les différentes métriques.\n",
    "    Si log=True on considère que la variable cible a \n",
    "    été passée au log lors du preprocessing. '''\n",
    "    try:\n",
    "        print('Paramètres du modèle', model_name, ':')\n",
    "        pprint(model.get_params())\n",
    "    except:\n",
    "        pass\n",
    "    \n",
    "    if train_time == 0:\n",
    "        start = time()\n",
    "        model.fit(X_train, y_train)\n",
    "        train_time = time() - start   \n",
    "    \n",
    "    start = time()\n",
    "    pred_train = model.predict(X_train)\n",
    "    predict_time_train = time()-start\n",
    "    \n",
    "    start = time()\n",
    "    pred_test = model.predict(X_test)\n",
    "    predict_time_test = time()-start  \n",
    "\n",
    "    R2_train = model.score(X_train,y_train)\n",
    "    \n",
    "    if log == True:\n",
    "        y_train, y_test, pred_train, pred_test =  np.expm1(y_train), np.expm1(y_test), np.expm1(pred_train), np.expm1(pred_test)\n",
    "\n",
    "    RMSE_train = np.sqrt(metrics.mean_squared_error(y_train, pred_train))\n",
    "    R2_test = r2_score(y_test,pred_test)\n",
    "    RMSE_test = np.sqrt(metrics.mean_squared_error(y_test,pred_test))  \n",
    "    \n",
    "    data = {'training_time': train_time, 'R2_train': R2_train,\n",
    "            'RMSE_train': RMSE_train, 'predict_time_train': predict_time_train, 'R2_test': R2_test,\n",
    "            'RMSE_test': RMSE_test, 'predict_time_test':predict_time_test}\n",
    "    \n",
    "    return pd.DataFrame(data, index = [model_name])\n",
    "\n",
    "\n",
    "def test_models(X_train, X_test, y_train, y_test):\n",
    "    ''' Fonction pour tester différents modèles\n",
    "    avec paramètres par défaut. '''\n",
    "    \n",
    "    regressors = [\n",
    "        GradientBoostingRegressor(),\n",
    "        RandomForestRegressor(),\n",
    "        LinearRegression(),\n",
    "        Lasso(tol=0.05),\n",
    "        Ridge(),\n",
    "        ElasticNet(),\n",
    "        DummyRegressor(strategy='mean'),\n",
    "    ]\n",
    "\n",
    "    test_models = pd.DataFrame()\n",
    "\n",
    "    for model in regressors:\n",
    "        test_models = pd.concat([test_models, run_model(X_train, X_test, y_train, y_test, model, str(model))])\n",
    "\n",
    "    return test_models.sort_values(by='R2_test', ascending=False)"
   ]
  },
  {
   "cell_type": "markdown",
   "metadata": {},
   "source": [
    "## Prédictions de la consommation d'énergie\n",
    "### Test des modèles avec paramètres par défaut"
   ]
  },
  {
   "cell_type": "code",
   "execution_count": 5,
   "metadata": {
    "ExecuteTime": {
     "end_time": "2021-09-18T05:28:51.943782Z",
     "start_time": "2021-09-18T05:28:51.918064Z"
    }
   },
   "outputs": [],
   "source": [
    "data_X = data.drop(columns=['SiteEnergyUse(kBtu)', 'GHGEmissions(MetricTonsCO2e)', # variables cibles\n",
    "                                   'SourceEUIWN(kBtu/sf)', 'ENERGYSTARScore', # utilisées lors du test avec l'ESS\n",
    "                                   'Outlier_bool', # moins efficace que 'Outlier'\n",
    "                                   'Electricity_ratio', 'Steam_ratio', 'NaturalGas_ratio', 'OtherEnergy_ratio' \n",
    "                                   # fuite de données si on utilise les ratios (et n'améliore pas le modèle après test)\n",
    "                                  ]).fillna(0).copy(deep=True)\n",
    "\n",
    "numeric_features = ['building_age','PropertyGFATotal','PropertyGFAParking', 'PropertyGFABuilding(s)',\n",
    "                    'NumberofFloors', 'NumberofBuildings', 'Latitude', 'Longitude'] + \\\n",
    "                    [col for col in data_X.columns if col.startswith('Type_')]\n",
    "\n",
    "categorical_features = ['PrimaryPropertyType', 'Neighborhood', 'CouncilDistrictCode', 'Primary_energy_source',\n",
    "                        'Secondary_energy_source','Outlier','BuildingType','Electricity', 'Steam', 'NaturalGas',\n",
    "                        'OtherEnergy']\n",
    "\n",
    "X = data_X.copy(deep=True)\n",
    "y = data['SiteEnergyUse(kBtu)']"
   ]
  },
  {
   "cell_type": "code",
   "execution_count": 6,
   "metadata": {
    "ExecuteTime": {
     "end_time": "2021-09-18T05:29:07.122929Z",
     "start_time": "2021-09-18T05:29:07.086445Z"
    }
   },
   "outputs": [],
   "source": [
    "X, X_train, X_test, y_train, y_test = transform_dataset(X, y, numeric_features, categorical_features)"
   ]
  },
  {
   "cell_type": "code",
   "execution_count": 7,
   "metadata": {
    "ExecuteTime": {
     "end_time": "2021-09-18T05:29:14.478167Z",
     "start_time": "2021-09-18T05:29:07.992044Z"
    }
   },
   "outputs": [
    {
     "name": "stdout",
     "output_type": "stream",
     "text": [
      "Paramètres du modèle GradientBoostingRegressor() :\n",
      "{'alpha': 0.9,\n",
      " 'ccp_alpha': 0.0,\n",
      " 'criterion': 'friedman_mse',\n",
      " 'init': None,\n",
      " 'learning_rate': 0.1,\n",
      " 'loss': 'ls',\n",
      " 'max_depth': 3,\n",
      " 'max_features': None,\n",
      " 'max_leaf_nodes': None,\n",
      " 'min_impurity_decrease': 0.0,\n",
      " 'min_impurity_split': None,\n",
      " 'min_samples_leaf': 1,\n",
      " 'min_samples_split': 2,\n",
      " 'min_weight_fraction_leaf': 0.0,\n",
      " 'n_estimators': 100,\n",
      " 'n_iter_no_change': None,\n",
      " 'presort': 'deprecated',\n",
      " 'random_state': None,\n",
      " 'subsample': 1.0,\n",
      " 'tol': 0.0001,\n",
      " 'validation_fraction': 0.1,\n",
      " 'verbose': 0,\n",
      " 'warm_start': False}\n",
      "Paramètres du modèle RandomForestRegressor() :\n",
      "{'bootstrap': True,\n",
      " 'ccp_alpha': 0.0,\n",
      " 'criterion': 'mse',\n",
      " 'max_depth': None,\n",
      " 'max_features': 'auto',\n",
      " 'max_leaf_nodes': None,\n",
      " 'max_samples': None,\n",
      " 'min_impurity_decrease': 0.0,\n",
      " 'min_impurity_split': None,\n",
      " 'min_samples_leaf': 1,\n",
      " 'min_samples_split': 2,\n",
      " 'min_weight_fraction_leaf': 0.0,\n",
      " 'n_estimators': 100,\n",
      " 'n_jobs': None,\n",
      " 'oob_score': False,\n",
      " 'random_state': None,\n",
      " 'verbose': 0,\n",
      " 'warm_start': False}\n",
      "Paramètres du modèle LinearRegression() :\n",
      "{'copy_X': True, 'fit_intercept': True, 'n_jobs': None, 'normalize': False}\n",
      "Paramètres du modèle Lasso(tol=0.05) :\n",
      "{'alpha': 1.0,\n",
      " 'copy_X': True,\n",
      " 'fit_intercept': True,\n",
      " 'max_iter': 1000,\n",
      " 'normalize': False,\n",
      " 'positive': False,\n",
      " 'precompute': False,\n",
      " 'random_state': None,\n",
      " 'selection': 'cyclic',\n",
      " 'tol': 0.05,\n",
      " 'warm_start': False}\n",
      "Paramètres du modèle Ridge() :\n",
      "{'alpha': 1.0,\n",
      " 'copy_X': True,\n",
      " 'fit_intercept': True,\n",
      " 'max_iter': None,\n",
      " 'normalize': False,\n",
      " 'random_state': None,\n",
      " 'solver': 'auto',\n",
      " 'tol': 0.001}\n",
      "Paramètres du modèle ElasticNet() :\n",
      "{'alpha': 1.0,\n",
      " 'copy_X': True,\n",
      " 'fit_intercept': True,\n",
      " 'l1_ratio': 0.5,\n",
      " 'max_iter': 1000,\n",
      " 'normalize': False,\n",
      " 'positive': False,\n",
      " 'precompute': False,\n",
      " 'random_state': None,\n",
      " 'selection': 'cyclic',\n",
      " 'tol': 0.0001,\n",
      " 'warm_start': False}\n",
      "Paramètres du modèle DummyRegressor() :\n",
      "{'constant': None, 'quantile': None, 'strategy': 'mean'}\n"
     ]
    },
    {
     "data": {
      "text/html": [
       "<div>\n",
       "<style scoped>\n",
       "    .dataframe tbody tr th:only-of-type {\n",
       "        vertical-align: middle;\n",
       "    }\n",
       "\n",
       "    .dataframe tbody tr th {\n",
       "        vertical-align: top;\n",
       "    }\n",
       "\n",
       "    .dataframe thead th {\n",
       "        text-align: right;\n",
       "    }\n",
       "</style>\n",
       "<table border=\"1\" class=\"dataframe\">\n",
       "  <thead>\n",
       "    <tr style=\"text-align: right;\">\n",
       "      <th></th>\n",
       "      <th>training_time</th>\n",
       "      <th>R2_train</th>\n",
       "      <th>RMSE_train</th>\n",
       "      <th>predict_time_train</th>\n",
       "      <th>R2_test</th>\n",
       "      <th>RMSE_test</th>\n",
       "      <th>predict_time_test</th>\n",
       "    </tr>\n",
       "  </thead>\n",
       "  <tbody>\n",
       "    <tr>\n",
       "      <th>RandomForestRegressor()</th>\n",
       "      <td>4.909191</td>\n",
       "      <td>0.911067</td>\n",
       "      <td>9.839574e+06</td>\n",
       "      <td>0.067793</td>\n",
       "      <td>0.810054</td>\n",
       "      <td>6.960892e+06</td>\n",
       "      <td>0.037492</td>\n",
       "    </tr>\n",
       "    <tr>\n",
       "      <th>LinearRegression()</th>\n",
       "      <td>0.076294</td>\n",
       "      <td>0.964092</td>\n",
       "      <td>6.252329e+06</td>\n",
       "      <td>0.004745</td>\n",
       "      <td>0.745868</td>\n",
       "      <td>8.051552e+06</td>\n",
       "      <td>0.001050</td>\n",
       "    </tr>\n",
       "    <tr>\n",
       "      <th>Ridge()</th>\n",
       "      <td>0.017442</td>\n",
       "      <td>0.964016</td>\n",
       "      <td>6.258949e+06</td>\n",
       "      <td>0.000000</td>\n",
       "      <td>0.744744</td>\n",
       "      <td>8.069339e+06</td>\n",
       "      <td>0.000000</td>\n",
       "    </tr>\n",
       "    <tr>\n",
       "      <th>ElasticNet()</th>\n",
       "      <td>0.032614</td>\n",
       "      <td>0.916070</td>\n",
       "      <td>9.558785e+06</td>\n",
       "      <td>0.000000</td>\n",
       "      <td>0.634163</td>\n",
       "      <td>9.660380e+06</td>\n",
       "      <td>0.000000</td>\n",
       "    </tr>\n",
       "    <tr>\n",
       "      <th>GradientBoostingRegressor()</th>\n",
       "      <td>1.066271</td>\n",
       "      <td>0.988344</td>\n",
       "      <td>3.562132e+06</td>\n",
       "      <td>0.004001</td>\n",
       "      <td>0.593770</td>\n",
       "      <td>1.017973e+07</td>\n",
       "      <td>0.000000</td>\n",
       "    </tr>\n",
       "    <tr>\n",
       "      <th>Lasso(tol=0.05)</th>\n",
       "      <td>0.011585</td>\n",
       "      <td>0.949868</td>\n",
       "      <td>7.387590e+06</td>\n",
       "      <td>0.000000</td>\n",
       "      <td>0.461921</td>\n",
       "      <td>1.171583e+07</td>\n",
       "      <td>0.000000</td>\n",
       "    </tr>\n",
       "    <tr>\n",
       "      <th>DummyRegressor()</th>\n",
       "      <td>0.000000</td>\n",
       "      <td>0.000000</td>\n",
       "      <td>3.299472e+07</td>\n",
       "      <td>0.000000</td>\n",
       "      <td>-0.002439</td>\n",
       "      <td>1.599113e+07</td>\n",
       "      <td>0.000000</td>\n",
       "    </tr>\n",
       "  </tbody>\n",
       "</table>\n",
       "</div>"
      ],
      "text/plain": [
       "                             training_time  R2_train    RMSE_train  \\\n",
       "RandomForestRegressor()           4.909191  0.911067  9.839574e+06   \n",
       "LinearRegression()                0.076294  0.964092  6.252329e+06   \n",
       "Ridge()                           0.017442  0.964016  6.258949e+06   \n",
       "ElasticNet()                      0.032614  0.916070  9.558785e+06   \n",
       "GradientBoostingRegressor()       1.066271  0.988344  3.562132e+06   \n",
       "Lasso(tol=0.05)                   0.011585  0.949868  7.387590e+06   \n",
       "DummyRegressor()                  0.000000  0.000000  3.299472e+07   \n",
       "\n",
       "                             predict_time_train   R2_test     RMSE_test  \\\n",
       "RandomForestRegressor()                0.067793  0.810054  6.960892e+06   \n",
       "LinearRegression()                     0.004745  0.745868  8.051552e+06   \n",
       "Ridge()                                0.000000  0.744744  8.069339e+06   \n",
       "ElasticNet()                           0.000000  0.634163  9.660380e+06   \n",
       "GradientBoostingRegressor()            0.004001  0.593770  1.017973e+07   \n",
       "Lasso(tol=0.05)                        0.000000  0.461921  1.171583e+07   \n",
       "DummyRegressor()                       0.000000 -0.002439  1.599113e+07   \n",
       "\n",
       "                             predict_time_test  \n",
       "RandomForestRegressor()               0.037492  \n",
       "LinearRegression()                    0.001050  \n",
       "Ridge()                               0.000000  \n",
       "ElasticNet()                          0.000000  \n",
       "GradientBoostingRegressor()           0.000000  \n",
       "Lasso(tol=0.05)                       0.000000  \n",
       "DummyRegressor()                      0.000000  "
      ]
     },
     "execution_count": 7,
     "metadata": {},
     "output_type": "execute_result"
    }
   ],
   "source": [
    "test_models(X_train, X_test, y_train, y_test)"
   ]
  },
  {
   "cell_type": "markdown",
   "metadata": {},
   "source": [
    "### RandomForestRegressor - optimisation"
   ]
  },
  {
   "cell_type": "code",
   "execution_count": 8,
   "metadata": {
    "ExecuteTime": {
     "end_time": "2021-09-18T05:29:28.335284Z",
     "start_time": "2021-09-18T05:29:23.130009Z"
    }
   },
   "outputs": [
    {
     "name": "stdout",
     "output_type": "stream",
     "text": [
      "Paramètres du modèle RFR base :\n",
      "{'bootstrap': True,\n",
      " 'ccp_alpha': 0.0,\n",
      " 'criterion': 'mse',\n",
      " 'max_depth': None,\n",
      " 'max_features': 'auto',\n",
      " 'max_leaf_nodes': None,\n",
      " 'max_samples': None,\n",
      " 'min_impurity_decrease': 0.0,\n",
      " 'min_impurity_split': None,\n",
      " 'min_samples_leaf': 1,\n",
      " 'min_samples_split': 2,\n",
      " 'min_weight_fraction_leaf': 0.0,\n",
      " 'n_estimators': 100,\n",
      " 'n_jobs': None,\n",
      " 'oob_score': False,\n",
      " 'random_state': 4,\n",
      " 'verbose': 0,\n",
      " 'warm_start': False}\n"
     ]
    },
    {
     "data": {
      "text/html": [
       "<div>\n",
       "<style scoped>\n",
       "    .dataframe tbody tr th:only-of-type {\n",
       "        vertical-align: middle;\n",
       "    }\n",
       "\n",
       "    .dataframe tbody tr th {\n",
       "        vertical-align: top;\n",
       "    }\n",
       "\n",
       "    .dataframe thead th {\n",
       "        text-align: right;\n",
       "    }\n",
       "</style>\n",
       "<table border=\"1\" class=\"dataframe\">\n",
       "  <thead>\n",
       "    <tr style=\"text-align: right;\">\n",
       "      <th></th>\n",
       "      <th>training_time</th>\n",
       "      <th>R2_train</th>\n",
       "      <th>RMSE_train</th>\n",
       "      <th>predict_time_train</th>\n",
       "      <th>R2_test</th>\n",
       "      <th>RMSE_test</th>\n",
       "      <th>predict_time_test</th>\n",
       "    </tr>\n",
       "  </thead>\n",
       "  <tbody>\n",
       "    <tr>\n",
       "      <th>RFR base</th>\n",
       "      <td>5.009447</td>\n",
       "      <td>0.917106</td>\n",
       "      <td>9.499631e+06</td>\n",
       "      <td>0.072234</td>\n",
       "      <td>0.828206</td>\n",
       "      <td>6.619943e+06</td>\n",
       "      <td>0.025192</td>\n",
       "    </tr>\n",
       "  </tbody>\n",
       "</table>\n",
       "</div>"
      ],
      "text/plain": [
       "          training_time  R2_train    RMSE_train  predict_time_train   R2_test  \\\n",
       "RFR base       5.009447  0.917106  9.499631e+06            0.072234  0.828206   \n",
       "\n",
       "             RMSE_test  predict_time_test  \n",
       "RFR base  6.619943e+06           0.025192  "
      ]
     },
     "execution_count": 8,
     "metadata": {},
     "output_type": "execute_result"
    }
   ],
   "source": [
    "test_metrics = run_model(X_train, X_test, y_train, y_test, RandomForestRegressor(random_state=4), 'RFR base')\n",
    "test_metrics"
   ]
  },
  {
   "cell_type": "markdown",
   "metadata": {},
   "source": [
    "#### Sélection des variables manuelle"
   ]
  },
  {
   "cell_type": "code",
   "execution_count": 9,
   "metadata": {
    "ExecuteTime": {
     "end_time": "2021-09-18T05:29:43.801859Z",
     "start_time": "2021-09-18T05:29:40.516427Z"
    }
   },
   "outputs": [
    {
     "name": "stdout",
     "output_type": "stream",
     "text": [
      "Paramètres du modèle RFR selected feats :\n",
      "{'bootstrap': True,\n",
      " 'ccp_alpha': 0.0,\n",
      " 'criterion': 'mse',\n",
      " 'max_depth': None,\n",
      " 'max_features': 'auto',\n",
      " 'max_leaf_nodes': None,\n",
      " 'max_samples': None,\n",
      " 'min_impurity_decrease': 0.0,\n",
      " 'min_impurity_split': None,\n",
      " 'min_samples_leaf': 1,\n",
      " 'min_samples_split': 2,\n",
      " 'min_weight_fraction_leaf': 0.0,\n",
      " 'n_estimators': 100,\n",
      " 'n_jobs': None,\n",
      " 'oob_score': False,\n",
      " 'random_state': 4,\n",
      " 'verbose': 0,\n",
      " 'warm_start': False}\n"
     ]
    },
    {
     "data": {
      "text/html": [
       "<div>\n",
       "<style scoped>\n",
       "    .dataframe tbody tr th:only-of-type {\n",
       "        vertical-align: middle;\n",
       "    }\n",
       "\n",
       "    .dataframe tbody tr th {\n",
       "        vertical-align: top;\n",
       "    }\n",
       "\n",
       "    .dataframe thead th {\n",
       "        text-align: right;\n",
       "    }\n",
       "</style>\n",
       "<table border=\"1\" class=\"dataframe\">\n",
       "  <thead>\n",
       "    <tr style=\"text-align: right;\">\n",
       "      <th></th>\n",
       "      <th>training_time</th>\n",
       "      <th>R2_train</th>\n",
       "      <th>RMSE_train</th>\n",
       "      <th>predict_time_train</th>\n",
       "      <th>R2_test</th>\n",
       "      <th>RMSE_test</th>\n",
       "      <th>predict_time_test</th>\n",
       "    </tr>\n",
       "  </thead>\n",
       "  <tbody>\n",
       "    <tr>\n",
       "      <th>RFR base</th>\n",
       "      <td>5.009447</td>\n",
       "      <td>0.917106</td>\n",
       "      <td>9.499631e+06</td>\n",
       "      <td>0.072234</td>\n",
       "      <td>0.828206</td>\n",
       "      <td>6.619943e+06</td>\n",
       "      <td>0.025192</td>\n",
       "    </tr>\n",
       "    <tr>\n",
       "      <th>RFR selected feats</th>\n",
       "      <td>3.049737</td>\n",
       "      <td>0.920901</td>\n",
       "      <td>9.279586e+06</td>\n",
       "      <td>0.069669</td>\n",
       "      <td>0.856973</td>\n",
       "      <td>6.040302e+06</td>\n",
       "      <td>0.030651</td>\n",
       "    </tr>\n",
       "  </tbody>\n",
       "</table>\n",
       "</div>"
      ],
      "text/plain": [
       "                    training_time  R2_train    RMSE_train  predict_time_train  \\\n",
       "RFR base                 5.009447  0.917106  9.499631e+06            0.072234   \n",
       "RFR selected feats       3.049737  0.920901  9.279586e+06            0.069669   \n",
       "\n",
       "                     R2_test     RMSE_test  predict_time_test  \n",
       "RFR base            0.828206  6.619943e+06           0.025192  \n",
       "RFR selected feats  0.856973  6.040302e+06           0.030651  "
      ]
     },
     "execution_count": 9,
     "metadata": {},
     "output_type": "execute_result"
    }
   ],
   "source": [
    "data_RFR = data_X.drop(columns=['PropertyGFATotal', 'NumberofBuildings', 'Neighborhood', 'CouncilDistrictCode',\n",
    "                         'Latitude', 'Longitude', 'Electricity', 'Steam', 'NaturalGas', 'OtherEnergy',  \n",
    "                         'Secondary_energy_source']).copy(deep=True)\n",
    "\n",
    "numeric_features = ['building_age', 'PropertyGFABuilding(s)', 'PropertyGFAParking', 'NumberofFloors'] + \\\n",
    "                   [col for col in data_X.columns if col.startswith('Type_')]\n",
    "\n",
    "categorical_features = ['PrimaryPropertyType',  'Primary_energy_source', 'Outlier','BuildingType']\n",
    "\n",
    "X = data_RFR.copy(deep=True)\n",
    "y = data['SiteEnergyUse(kBtu)']\n",
    "\n",
    "X, X_train, X_test, y_train, y_test = transform_dataset(X, y, numeric_features, categorical_features)\n",
    "\n",
    "test_metrics = pd.concat([test_metrics, run_model(X_train, X_test, y_train, y_test,\n",
    "                                                  RandomForestRegressor(random_state=4),'RFR selected feats')])\n",
    "test_metrics"
   ]
  },
  {
   "cell_type": "markdown",
   "metadata": {},
   "source": [
    "#### Sélection des variables grâce à feature_importances_"
   ]
  },
  {
   "cell_type": "code",
   "execution_count": 10,
   "metadata": {
    "ExecuteTime": {
     "end_time": "2021-09-18T05:29:46.778214Z",
     "start_time": "2021-09-18T05:29:43.806635Z"
    }
   },
   "outputs": [
    {
     "name": "stdout",
     "output_type": "stream",
     "text": [
      "Paramètres du modèle RFR feats :\n",
      "{'bootstrap': True,\n",
      " 'ccp_alpha': 0.0,\n",
      " 'criterion': 'mse',\n",
      " 'max_depth': None,\n",
      " 'max_features': 'auto',\n",
      " 'max_leaf_nodes': None,\n",
      " 'max_samples': None,\n",
      " 'min_impurity_decrease': 0.0,\n",
      " 'min_impurity_split': None,\n",
      " 'min_samples_leaf': 1,\n",
      " 'min_samples_split': 2,\n",
      " 'min_weight_fraction_leaf': 0.0,\n",
      " 'n_estimators': 100,\n",
      " 'n_jobs': None,\n",
      " 'oob_score': False,\n",
      " 'random_state': 4,\n",
      " 'verbose': 0,\n",
      " 'warm_start': False}\n"
     ]
    },
    {
     "data": {
      "text/html": [
       "<div>\n",
       "<style scoped>\n",
       "    .dataframe tbody tr th:only-of-type {\n",
       "        vertical-align: middle;\n",
       "    }\n",
       "\n",
       "    .dataframe tbody tr th {\n",
       "        vertical-align: top;\n",
       "    }\n",
       "\n",
       "    .dataframe thead th {\n",
       "        text-align: right;\n",
       "    }\n",
       "</style>\n",
       "<table border=\"1\" class=\"dataframe\">\n",
       "  <thead>\n",
       "    <tr style=\"text-align: right;\">\n",
       "      <th></th>\n",
       "      <th>training_time</th>\n",
       "      <th>R2_train</th>\n",
       "      <th>RMSE_train</th>\n",
       "      <th>predict_time_train</th>\n",
       "      <th>R2_test</th>\n",
       "      <th>RMSE_test</th>\n",
       "      <th>predict_time_test</th>\n",
       "    </tr>\n",
       "  </thead>\n",
       "  <tbody>\n",
       "    <tr>\n",
       "      <th>RFR feats</th>\n",
       "      <td>2.764308</td>\n",
       "      <td>0.920901</td>\n",
       "      <td>9.279586e+06</td>\n",
       "      <td>0.064024</td>\n",
       "      <td>0.856973</td>\n",
       "      <td>6.040302e+06</td>\n",
       "      <td>0.028458</td>\n",
       "    </tr>\n",
       "  </tbody>\n",
       "</table>\n",
       "</div>"
      ],
      "text/plain": [
       "           training_time  R2_train    RMSE_train  predict_time_train  \\\n",
       "RFR feats       2.764308  0.920901  9.279586e+06            0.064024   \n",
       "\n",
       "            R2_test     RMSE_test  predict_time_test  \n",
       "RFR feats  0.856973  6.040302e+06           0.028458  "
      ]
     },
     "execution_count": 10,
     "metadata": {},
     "output_type": "execute_result"
    }
   ],
   "source": [
    "rfr = RandomForestRegressor(random_state=4)\n",
    "run_model(X_train, X_test, y_train, y_test, rfr, 'RFR feats')"
   ]
  },
  {
   "cell_type": "code",
   "execution_count": 11,
   "metadata": {
    "ExecuteTime": {
     "end_time": "2021-09-18T05:29:47.410080Z",
     "start_time": "2021-09-18T05:29:46.780212Z"
    }
   },
   "outputs": [
    {
     "data": {
      "image/png": "[encoded data removed]",
      "text/plain": [
       "<Figure size 1080x720 with 1 Axes>"
      ]
     },
     "metadata": {},
     "output_type": "display_data"
    }
   ],
   "source": [
    "feat_importance = pd.DataFrame({'columns': X.columns, 'feat_importance': rfr.feature_importances_})\n",
    "feat_importance = feat_importance.sort_values(by='feat_importance', ascending=False)\n",
    "fig = plt.figure(figsize=(15,10))\n",
    "plt.barh(feat_importance['columns'][:10], feat_importance['feat_importance'][:10]);"
   ]
  },
  {
   "cell_type": "code",
   "execution_count": 12,
   "metadata": {
    "ExecuteTime": {
     "end_time": "2021-09-18T05:29:47.453566Z",
     "start_time": "2021-09-18T05:29:47.413080Z"
    }
   },
   "outputs": [
    {
     "data": {
      "text/plain": [
       "['Type_Social/Meeting Hall',\n",
       " 'Type_Worship Facility',\n",
       " 'BuildingType_SPS-District K-12',\n",
       " 'Type_Automobile Dealership',\n",
       " 'PrimaryPropertyType_Worship Facility',\n",
       " 'Type_Pre-school/Daycare',\n",
       " 'Primary_energy_source_OtherFuelUse(kBtu)',\n",
       " 'PrimaryPropertyType_Low-Rise Multifamily',\n",
       " 'BuildingType_Nonresidential WA',\n",
       " 'PrimaryPropertyType_Office']"
      ]
     },
     "execution_count": 12,
     "metadata": {},
     "output_type": "execute_result"
    }
   ],
   "source": [
    "cols_to_drop = feat_importance[feat_importance['feat_importance'] < 1*10**-5]['columns'].tolist()\n",
    "cols_to_drop"
   ]
  },
  {
   "cell_type": "code",
   "execution_count": 14,
   "metadata": {
    "ExecuteTime": {
     "end_time": "2021-09-18T05:30:01.582332Z",
     "start_time": "2021-09-18T05:29:58.444535Z"
    }
   },
   "outputs": [
    {
     "name": "stdout",
     "output_type": "stream",
     "text": [
      "Paramètres du modèle RFR feats_imptce :\n",
      "{'bootstrap': True,\n",
      " 'ccp_alpha': 0.0,\n",
      " 'criterion': 'mse',\n",
      " 'max_depth': None,\n",
      " 'max_features': 'auto',\n",
      " 'max_leaf_nodes': None,\n",
      " 'max_samples': None,\n",
      " 'min_impurity_decrease': 0.0,\n",
      " 'min_impurity_split': None,\n",
      " 'min_samples_leaf': 1,\n",
      " 'min_samples_split': 2,\n",
      " 'min_weight_fraction_leaf': 0.0,\n",
      " 'n_estimators': 100,\n",
      " 'n_jobs': None,\n",
      " 'oob_score': False,\n",
      " 'random_state': 4,\n",
      " 'verbose': 0,\n",
      " 'warm_start': False}\n"
     ]
    },
    {
     "data": {
      "text/html": [
       "<div>\n",
       "<style scoped>\n",
       "    .dataframe tbody tr th:only-of-type {\n",
       "        vertical-align: middle;\n",
       "    }\n",
       "\n",
       "    .dataframe tbody tr th {\n",
       "        vertical-align: top;\n",
       "    }\n",
       "\n",
       "    .dataframe thead th {\n",
       "        text-align: right;\n",
       "    }\n",
       "</style>\n",
       "<table border=\"1\" class=\"dataframe\">\n",
       "  <thead>\n",
       "    <tr style=\"text-align: right;\">\n",
       "      <th></th>\n",
       "      <th>training_time</th>\n",
       "      <th>R2_train</th>\n",
       "      <th>RMSE_train</th>\n",
       "      <th>predict_time_train</th>\n",
       "      <th>R2_test</th>\n",
       "      <th>RMSE_test</th>\n",
       "      <th>predict_time_test</th>\n",
       "    </tr>\n",
       "  </thead>\n",
       "  <tbody>\n",
       "    <tr>\n",
       "      <th>RFR base</th>\n",
       "      <td>5.009447</td>\n",
       "      <td>0.917106</td>\n",
       "      <td>9.499631e+06</td>\n",
       "      <td>0.072234</td>\n",
       "      <td>0.828206</td>\n",
       "      <td>6.619943e+06</td>\n",
       "      <td>0.025192</td>\n",
       "    </tr>\n",
       "    <tr>\n",
       "      <th>RFR selected feats</th>\n",
       "      <td>3.049737</td>\n",
       "      <td>0.920901</td>\n",
       "      <td>9.279586e+06</td>\n",
       "      <td>0.069669</td>\n",
       "      <td>0.856973</td>\n",
       "      <td>6.040302e+06</td>\n",
       "      <td>0.030651</td>\n",
       "    </tr>\n",
       "    <tr>\n",
       "      <th>RFR feats_imptce</th>\n",
       "      <td>2.906728</td>\n",
       "      <td>0.921255</td>\n",
       "      <td>9.258817e+06</td>\n",
       "      <td>0.070212</td>\n",
       "      <td>0.861185</td>\n",
       "      <td>5.950709e+06</td>\n",
       "      <td>0.031002</td>\n",
       "    </tr>\n",
       "  </tbody>\n",
       "</table>\n",
       "</div>"
      ],
      "text/plain": [
       "                    training_time  R2_train    RMSE_train  predict_time_train  \\\n",
       "RFR base                 5.009447  0.917106  9.499631e+06            0.072234   \n",
       "RFR selected feats       3.049737  0.920901  9.279586e+06            0.069669   \n",
       "RFR feats_imptce         2.906728  0.921255  9.258817e+06            0.070212   \n",
       "\n",
       "                     R2_test     RMSE_test  predict_time_test  \n",
       "RFR base            0.828206  6.619943e+06           0.025192  \n",
       "RFR selected feats  0.856973  6.040302e+06           0.030651  \n",
       "RFR feats_imptce    0.861185  5.950709e+06           0.031002  "
      ]
     },
     "execution_count": 14,
     "metadata": {},
     "output_type": "execute_result"
    }
   ],
   "source": [
    "X = data_RFR.copy(deep=True)\n",
    "y = data['SiteEnergyUse(kBtu)']\n",
    "\n",
    "X, X_train, X_test, y_train, y_test = transform_dataset_drop_cols(X, y, numeric_features, categorical_features,\n",
    "                                                                  cols_to_drop)\n",
    "\n",
    "test_metrics = pd.concat([test_metrics, run_model(X_train, X_test, y_train, y_test,\n",
    "                                                  RandomForestRegressor(random_state=4),'RFR feats_imptce')])\n",
    "test_metrics"
   ]
  },
  {
   "cell_type": "markdown",
   "metadata": {},
   "source": [
    "#### GridSearchCV"
   ]
  },
  {
   "cell_type": "code",
   "execution_count": 15,
   "metadata": {
    "ExecuteTime": {
     "end_time": "2021-09-18T05:36:01.634742Z",
     "start_time": "2021-09-18T05:30:13.053657Z"
    }
   },
   "outputs": [
    {
     "name": "stdout",
     "output_type": "stream",
     "text": [
      "Fitting 5 folds for each of 108 candidates, totalling 540 fits\n"
     ]
    },
    {
     "name": "stderr",
     "output_type": "stream",
     "text": [
      "[Parallel(n_jobs=-1)]: Using backend LokyBackend with 8 concurrent workers.\n",
      "[Parallel(n_jobs=-1)]: Done  25 tasks      | elapsed:   22.8s\n",
      "[Parallel(n_jobs=-1)]: Done 146 tasks      | elapsed:  1.9min\n",
      "[Parallel(n_jobs=-1)]: Done 349 tasks      | elapsed:  3.6min\n",
      "[Parallel(n_jobs=-1)]: Done 540 out of 540 | elapsed:  5.8min finished\n"
     ]
    },
    {
     "name": "stdout",
     "output_type": "stream",
     "text": [
      "{'max_depth': 20, 'min_samples_leaf': 1, 'min_samples_split': 2, 'n_estimators': 100, 'n_jobs': -1, 'random_state': 4}\n",
      "Paramètres du modèle RFR gridsearchCV :\n",
      "{'bootstrap': True,\n",
      " 'ccp_alpha': 0.0,\n",
      " 'criterion': 'mse',\n",
      " 'max_depth': 20,\n",
      " 'max_features': 'auto',\n",
      " 'max_leaf_nodes': None,\n",
      " 'max_samples': None,\n",
      " 'min_impurity_decrease': 0.0,\n",
      " 'min_impurity_split': None,\n",
      " 'min_samples_leaf': 1,\n",
      " 'min_samples_split': 2,\n",
      " 'min_weight_fraction_leaf': 0.0,\n",
      " 'n_estimators': 100,\n",
      " 'n_jobs': -1,\n",
      " 'oob_score': False,\n",
      " 'random_state': 4,\n",
      " 'verbose': 0,\n",
      " 'warm_start': False}\n"
     ]
    },
    {
     "data": {
      "text/html": [
       "<div>\n",
       "<style scoped>\n",
       "    .dataframe tbody tr th:only-of-type {\n",
       "        vertical-align: middle;\n",
       "    }\n",
       "\n",
       "    .dataframe tbody tr th {\n",
       "        vertical-align: top;\n",
       "    }\n",
       "\n",
       "    .dataframe thead th {\n",
       "        text-align: right;\n",
       "    }\n",
       "</style>\n",
       "<table border=\"1\" class=\"dataframe\">\n",
       "  <thead>\n",
       "    <tr style=\"text-align: right;\">\n",
       "      <th></th>\n",
       "      <th>training_time</th>\n",
       "      <th>R2_train</th>\n",
       "      <th>RMSE_train</th>\n",
       "      <th>predict_time_train</th>\n",
       "      <th>R2_test</th>\n",
       "      <th>RMSE_test</th>\n",
       "      <th>predict_time_test</th>\n",
       "    </tr>\n",
       "  </thead>\n",
       "  <tbody>\n",
       "    <tr>\n",
       "      <th>RFR base</th>\n",
       "      <td>5.009447</td>\n",
       "      <td>0.917106</td>\n",
       "      <td>9.499631e+06</td>\n",
       "      <td>0.072234</td>\n",
       "      <td>0.828206</td>\n",
       "      <td>6.619943e+06</td>\n",
       "      <td>0.025192</td>\n",
       "    </tr>\n",
       "    <tr>\n",
       "      <th>RFR selected feats</th>\n",
       "      <td>3.049737</td>\n",
       "      <td>0.920901</td>\n",
       "      <td>9.279586e+06</td>\n",
       "      <td>0.069669</td>\n",
       "      <td>0.856973</td>\n",
       "      <td>6.040302e+06</td>\n",
       "      <td>0.030651</td>\n",
       "    </tr>\n",
       "    <tr>\n",
       "      <th>RFR feats_imptce</th>\n",
       "      <td>2.906728</td>\n",
       "      <td>0.921255</td>\n",
       "      <td>9.258817e+06</td>\n",
       "      <td>0.070212</td>\n",
       "      <td>0.861185</td>\n",
       "      <td>5.950709e+06</td>\n",
       "      <td>0.031002</td>\n",
       "    </tr>\n",
       "    <tr>\n",
       "      <th>RFR gridsearchCV</th>\n",
       "      <td>348.385066</td>\n",
       "      <td>0.918762</td>\n",
       "      <td>9.404245e+06</td>\n",
       "      <td>0.047850</td>\n",
       "      <td>0.856869</td>\n",
       "      <td>6.042502e+06</td>\n",
       "      <td>0.037017</td>\n",
       "    </tr>\n",
       "  </tbody>\n",
       "</table>\n",
       "</div>"
      ],
      "text/plain": [
       "                    training_time  R2_train    RMSE_train  predict_time_train  \\\n",
       "RFR base                 5.009447  0.917106  9.499631e+06            0.072234   \n",
       "RFR selected feats       3.049737  0.920901  9.279586e+06            0.069669   \n",
       "RFR feats_imptce         2.906728  0.921255  9.258817e+06            0.070212   \n",
       "RFR gridsearchCV       348.385066  0.918762  9.404245e+06            0.047850   \n",
       "\n",
       "                     R2_test     RMSE_test  predict_time_test  \n",
       "RFR base            0.828206  6.619943e+06           0.025192  \n",
       "RFR selected feats  0.856973  6.040302e+06           0.030651  \n",
       "RFR feats_imptce    0.861185  5.950709e+06           0.031002  \n",
       "RFR gridsearchCV    0.856869  6.042502e+06           0.037017  "
      ]
     },
     "execution_count": 15,
     "metadata": {},
     "output_type": "execute_result"
    }
   ],
   "source": [
    "param_grid = {\n",
    "    'max_depth': [None, 10, 20, 40],\n",
    "    'min_samples_leaf': [1,2,3],\n",
    "    'min_samples_split': [2, 4, 8],\n",
    "    'n_estimators': [100, 200, 400],\n",
    "    'random_state': [4],\n",
    "    'n_jobs' : [-1]\n",
    "}\n",
    "X = data_RFR.copy(deep=True)\n",
    "y = data['SiteEnergyUse(kBtu)']\n",
    "\n",
    "X, X_train, X_test, y_train, y_test = transform_dataset_drop_cols(X, y, numeric_features, categorical_features,\n",
    "                                                                  cols_to_drop)\n",
    "\n",
    "\n",
    "rfr = RandomForestRegressor()\n",
    "grid_search = GridSearchCV(estimator = rfr, param_grid = param_grid, \n",
    "                          cv = 5, n_jobs = -1, verbose=2)\n",
    "start = time()\n",
    "grid_search.fit(X_train, y_train)\n",
    "train_time = time() - start\n",
    "print(grid_search.best_params_)\n",
    "best_grid = grid_search.best_estimator_\n",
    "\n",
    "test_metrics = pd.concat([test_metrics, run_model(X_train, X_test, y_train, y_test,\n",
    "                                                  best_grid,'RFR gridsearchCV', train_time=train_time)])\n",
    "test_metrics"
   ]
  },
  {
   "cell_type": "markdown",
   "metadata": {},
   "source": [
    "## Prédictions des émissions de CO2\n",
    "### Test des modèles avec paramètres par défaut"
   ]
  },
  {
   "cell_type": "code",
   "execution_count": 17,
   "metadata": {
    "ExecuteTime": {
     "end_time": "2021-09-18T05:36:50.786138Z",
     "start_time": "2021-09-18T05:36:45.541928Z"
    }
   },
   "outputs": [
    {
     "name": "stdout",
     "output_type": "stream",
     "text": [
      "Paramètres du modèle GradientBoostingRegressor() :\n",
      "{'alpha': 0.9,\n",
      " 'ccp_alpha': 0.0,\n",
      " 'criterion': 'friedman_mse',\n",
      " 'init': None,\n",
      " 'learning_rate': 0.1,\n",
      " 'loss': 'ls',\n",
      " 'max_depth': 3,\n",
      " 'max_features': None,\n",
      " 'max_leaf_nodes': None,\n",
      " 'min_impurity_decrease': 0.0,\n",
      " 'min_impurity_split': None,\n",
      " 'min_samples_leaf': 1,\n",
      " 'min_samples_split': 2,\n",
      " 'min_weight_fraction_leaf': 0.0,\n",
      " 'n_estimators': 100,\n",
      " 'n_iter_no_change': None,\n",
      " 'presort': 'deprecated',\n",
      " 'random_state': None,\n",
      " 'subsample': 1.0,\n",
      " 'tol': 0.0001,\n",
      " 'validation_fraction': 0.1,\n",
      " 'verbose': 0,\n",
      " 'warm_start': False}\n",
      "Paramètres du modèle RandomForestRegressor() :\n",
      "{'bootstrap': True,\n",
      " 'ccp_alpha': 0.0,\n",
      " 'criterion': 'mse',\n",
      " 'max_depth': None,\n",
      " 'max_features': 'auto',\n",
      " 'max_leaf_nodes': None,\n",
      " 'max_samples': None,\n",
      " 'min_impurity_decrease': 0.0,\n",
      " 'min_impurity_split': None,\n",
      " 'min_samples_leaf': 1,\n",
      " 'min_samples_split': 2,\n",
      " 'min_weight_fraction_leaf': 0.0,\n",
      " 'n_estimators': 100,\n",
      " 'n_jobs': None,\n",
      " 'oob_score': False,\n",
      " 'random_state': None,\n",
      " 'verbose': 0,\n",
      " 'warm_start': False}\n",
      "Paramètres du modèle LinearRegression() :\n",
      "{'copy_X': True, 'fit_intercept': True, 'n_jobs': None, 'normalize': False}\n",
      "Paramètres du modèle Lasso(tol=0.05) :\n",
      "{'alpha': 1.0,\n",
      " 'copy_X': True,\n",
      " 'fit_intercept': True,\n",
      " 'max_iter': 1000,\n",
      " 'normalize': False,\n",
      " 'positive': False,\n",
      " 'precompute': False,\n",
      " 'random_state': None,\n",
      " 'selection': 'cyclic',\n",
      " 'tol': 0.05,\n",
      " 'warm_start': False}\n",
      "Paramètres du modèle Ridge() :\n",
      "{'alpha': 1.0,\n",
      " 'copy_X': True,\n",
      " 'fit_intercept': True,\n",
      " 'max_iter': None,\n",
      " 'normalize': False,\n",
      " 'random_state': None,\n",
      " 'solver': 'auto',\n",
      " 'tol': 0.001}\n",
      "Paramètres du modèle ElasticNet() :\n",
      "{'alpha': 1.0,\n",
      " 'copy_X': True,\n",
      " 'fit_intercept': True,\n",
      " 'l1_ratio': 0.5,\n",
      " 'max_iter': 1000,\n",
      " 'normalize': False,\n",
      " 'positive': False,\n",
      " 'precompute': False,\n",
      " 'random_state': None,\n",
      " 'selection': 'cyclic',\n",
      " 'tol': 0.0001,\n",
      " 'warm_start': False}\n",
      "Paramètres du modèle DummyRegressor() :\n",
      "{'constant': None, 'quantile': None, 'strategy': 'mean'}\n"
     ]
    },
    {
     "data": {
      "text/html": [
       "<div>\n",
       "<style scoped>\n",
       "    .dataframe tbody tr th:only-of-type {\n",
       "        vertical-align: middle;\n",
       "    }\n",
       "\n",
       "    .dataframe tbody tr th {\n",
       "        vertical-align: top;\n",
       "    }\n",
       "\n",
       "    .dataframe thead th {\n",
       "        text-align: right;\n",
       "    }\n",
       "</style>\n",
       "<table border=\"1\" class=\"dataframe\">\n",
       "  <thead>\n",
       "    <tr style=\"text-align: right;\">\n",
       "      <th></th>\n",
       "      <th>training_time</th>\n",
       "      <th>R2_train</th>\n",
       "      <th>RMSE_train</th>\n",
       "      <th>predict_time_train</th>\n",
       "      <th>R2_test</th>\n",
       "      <th>RMSE_test</th>\n",
       "      <th>predict_time_test</th>\n",
       "    </tr>\n",
       "  </thead>\n",
       "  <tbody>\n",
       "    <tr>\n",
       "      <th>ElasticNet()</th>\n",
       "      <td>0.000000</td>\n",
       "      <td>0.842185</td>\n",
       "      <td>322.104561</td>\n",
       "      <td>0.000000</td>\n",
       "      <td>0.763788</td>\n",
       "      <td>242.216778</td>\n",
       "      <td>0.004002</td>\n",
       "    </tr>\n",
       "    <tr>\n",
       "      <th>RandomForestRegressor()</th>\n",
       "      <td>3.918820</td>\n",
       "      <td>0.913032</td>\n",
       "      <td>239.112679</td>\n",
       "      <td>0.058430</td>\n",
       "      <td>0.728508</td>\n",
       "      <td>259.676286</td>\n",
       "      <td>0.013133</td>\n",
       "    </tr>\n",
       "    <tr>\n",
       "      <th>Ridge()</th>\n",
       "      <td>0.004000</td>\n",
       "      <td>0.934885</td>\n",
       "      <td>206.901770</td>\n",
       "      <td>0.000000</td>\n",
       "      <td>0.698733</td>\n",
       "      <td>273.545477</td>\n",
       "      <td>0.000000</td>\n",
       "    </tr>\n",
       "    <tr>\n",
       "      <th>GradientBoostingRegressor()</th>\n",
       "      <td>1.039800</td>\n",
       "      <td>0.989561</td>\n",
       "      <td>82.840745</td>\n",
       "      <td>0.005589</td>\n",
       "      <td>0.686351</td>\n",
       "      <td>279.110261</td>\n",
       "      <td>0.001050</td>\n",
       "    </tr>\n",
       "    <tr>\n",
       "      <th>LinearRegression()</th>\n",
       "      <td>0.005133</td>\n",
       "      <td>0.935006</td>\n",
       "      <td>206.709832</td>\n",
       "      <td>0.000000</td>\n",
       "      <td>0.684974</td>\n",
       "      <td>279.722182</td>\n",
       "      <td>0.000000</td>\n",
       "    </tr>\n",
       "    <tr>\n",
       "      <th>Lasso(tol=0.05)</th>\n",
       "      <td>0.004007</td>\n",
       "      <td>0.912975</td>\n",
       "      <td>239.191382</td>\n",
       "      <td>0.000000</td>\n",
       "      <td>0.684297</td>\n",
       "      <td>280.022391</td>\n",
       "      <td>0.000000</td>\n",
       "    </tr>\n",
       "    <tr>\n",
       "      <th>DummyRegressor()</th>\n",
       "      <td>0.000227</td>\n",
       "      <td>0.000000</td>\n",
       "      <td>810.817980</td>\n",
       "      <td>0.000000</td>\n",
       "      <td>-0.000239</td>\n",
       "      <td>498.431525</td>\n",
       "      <td>0.000000</td>\n",
       "    </tr>\n",
       "  </tbody>\n",
       "</table>\n",
       "</div>"
      ],
      "text/plain": [
       "                             training_time  R2_train  RMSE_train  \\\n",
       "ElasticNet()                      0.000000  0.842185  322.104561   \n",
       "RandomForestRegressor()           3.918820  0.913032  239.112679   \n",
       "Ridge()                           0.004000  0.934885  206.901770   \n",
       "GradientBoostingRegressor()       1.039800  0.989561   82.840745   \n",
       "LinearRegression()                0.005133  0.935006  206.709832   \n",
       "Lasso(tol=0.05)                   0.004007  0.912975  239.191382   \n",
       "DummyRegressor()                  0.000227  0.000000  810.817980   \n",
       "\n",
       "                             predict_time_train   R2_test   RMSE_test  \\\n",
       "ElasticNet()                           0.000000  0.763788  242.216778   \n",
       "RandomForestRegressor()                0.058430  0.728508  259.676286   \n",
       "Ridge()                                0.000000  0.698733  273.545477   \n",
       "GradientBoostingRegressor()            0.005589  0.686351  279.110261   \n",
       "LinearRegression()                     0.000000  0.684974  279.722182   \n",
       "Lasso(tol=0.05)                        0.000000  0.684297  280.022391   \n",
       "DummyRegressor()                       0.000000 -0.000239  498.431525   \n",
       "\n",
       "                             predict_time_test  \n",
       "ElasticNet()                          0.004002  \n",
       "RandomForestRegressor()               0.013133  \n",
       "Ridge()                               0.000000  \n",
       "GradientBoostingRegressor()           0.001050  \n",
       "LinearRegression()                    0.000000  \n",
       "Lasso(tol=0.05)                       0.000000  \n",
       "DummyRegressor()                      0.000000  "
      ]
     },
     "execution_count": 17,
     "metadata": {},
     "output_type": "execute_result"
    }
   ],
   "source": [
    "numeric_features = ['building_age','PropertyGFATotal','PropertyGFAParking', 'PropertyGFABuilding(s)',\n",
    "                    'NumberofFloors', 'NumberofBuildings', 'Latitude', 'Longitude'] + \\\n",
    "                    [col for col in data_X.columns if col.startswith('Type_')]\n",
    "\n",
    "categorical_features = ['PrimaryPropertyType', 'Neighborhood', 'CouncilDistrictCode', 'Primary_energy_source',\n",
    "                        'Secondary_energy_source','Outlier','BuildingType','Electricity', 'Steam', 'NaturalGas',\n",
    "                        'OtherEnergy']\n",
    "\n",
    "X = data_X.copy(deep=True)\n",
    "y = data['GHGEmissions(MetricTonsCO2e)']\n",
    "\n",
    "X, X_train, X_test, y_train, y_test = transform_dataset(X, y, numeric_features, categorical_features)\n",
    "test_models(X_train, X_test, y_train, y_test)"
   ]
  },
  {
   "cell_type": "markdown",
   "metadata": {},
   "source": [
    "### ElasticNet optimisation"
   ]
  },
  {
   "cell_type": "code",
   "execution_count": 18,
   "metadata": {
    "ExecuteTime": {
     "end_time": "2021-09-18T05:37:00.581866Z",
     "start_time": "2021-09-18T05:37:00.534051Z"
    }
   },
   "outputs": [
    {
     "name": "stdout",
     "output_type": "stream",
     "text": [
      "Paramètres du modèle EN base :\n",
      "{'alpha': 1.0,\n",
      " 'copy_X': True,\n",
      " 'fit_intercept': True,\n",
      " 'l1_ratio': 0.5,\n",
      " 'max_iter': 1000,\n",
      " 'normalize': False,\n",
      " 'positive': False,\n",
      " 'precompute': False,\n",
      " 'random_state': 4,\n",
      " 'selection': 'cyclic',\n",
      " 'tol': 0.0001,\n",
      " 'warm_start': False}\n"
     ]
    },
    {
     "data": {
      "text/html": [
       "<div>\n",
       "<style scoped>\n",
       "    .dataframe tbody tr th:only-of-type {\n",
       "        vertical-align: middle;\n",
       "    }\n",
       "\n",
       "    .dataframe tbody tr th {\n",
       "        vertical-align: top;\n",
       "    }\n",
       "\n",
       "    .dataframe thead th {\n",
       "        text-align: right;\n",
       "    }\n",
       "</style>\n",
       "<table border=\"1\" class=\"dataframe\">\n",
       "  <thead>\n",
       "    <tr style=\"text-align: right;\">\n",
       "      <th></th>\n",
       "      <th>training_time</th>\n",
       "      <th>R2_train</th>\n",
       "      <th>RMSE_train</th>\n",
       "      <th>predict_time_train</th>\n",
       "      <th>R2_test</th>\n",
       "      <th>RMSE_test</th>\n",
       "      <th>predict_time_test</th>\n",
       "    </tr>\n",
       "  </thead>\n",
       "  <tbody>\n",
       "    <tr>\n",
       "      <th>EN base</th>\n",
       "      <td>0.009578</td>\n",
       "      <td>0.842185</td>\n",
       "      <td>322.104561</td>\n",
       "      <td>0.0</td>\n",
       "      <td>0.763788</td>\n",
       "      <td>242.216778</td>\n",
       "      <td>0.000998</td>\n",
       "    </tr>\n",
       "  </tbody>\n",
       "</table>\n",
       "</div>"
      ],
      "text/plain": [
       "         training_time  R2_train  RMSE_train  predict_time_train   R2_test  \\\n",
       "EN base       0.009578  0.842185  322.104561                 0.0  0.763788   \n",
       "\n",
       "          RMSE_test  predict_time_test  \n",
       "EN base  242.216778           0.000998  "
      ]
     },
     "execution_count": 18,
     "metadata": {},
     "output_type": "execute_result"
    }
   ],
   "source": [
    "test_metrics = run_model(X_train, X_test, y_train, y_test, ElasticNet(random_state=4), 'EN base')\n",
    "test_metrics"
   ]
  },
  {
   "cell_type": "markdown",
   "metadata": {},
   "source": [
    "#### Test avec les variables sélectionnées pour la consommation d'énergie"
   ]
  },
  {
   "cell_type": "code",
   "execution_count": 19,
   "metadata": {
    "ExecuteTime": {
     "end_time": "2021-09-18T05:37:02.097482Z",
     "start_time": "2021-09-18T05:37:01.999992Z"
    }
   },
   "outputs": [
    {
     "name": "stdout",
     "output_type": "stream",
     "text": [
      "Paramètres du modèle EN selected feats :\n",
      "{'alpha': 1.0,\n",
      " 'copy_X': True,\n",
      " 'fit_intercept': True,\n",
      " 'l1_ratio': 0.5,\n",
      " 'max_iter': 1000,\n",
      " 'normalize': False,\n",
      " 'positive': False,\n",
      " 'precompute': False,\n",
      " 'random_state': 4,\n",
      " 'selection': 'cyclic',\n",
      " 'tol': 0.0001,\n",
      " 'warm_start': False}\n"
     ]
    },
    {
     "data": {
      "text/html": [
       "<div>\n",
       "<style scoped>\n",
       "    .dataframe tbody tr th:only-of-type {\n",
       "        vertical-align: middle;\n",
       "    }\n",
       "\n",
       "    .dataframe tbody tr th {\n",
       "        vertical-align: top;\n",
       "    }\n",
       "\n",
       "    .dataframe thead th {\n",
       "        text-align: right;\n",
       "    }\n",
       "</style>\n",
       "<table border=\"1\" class=\"dataframe\">\n",
       "  <thead>\n",
       "    <tr style=\"text-align: right;\">\n",
       "      <th></th>\n",
       "      <th>training_time</th>\n",
       "      <th>R2_train</th>\n",
       "      <th>RMSE_train</th>\n",
       "      <th>predict_time_train</th>\n",
       "      <th>R2_test</th>\n",
       "      <th>RMSE_test</th>\n",
       "      <th>predict_time_test</th>\n",
       "    </tr>\n",
       "  </thead>\n",
       "  <tbody>\n",
       "    <tr>\n",
       "      <th>EN base</th>\n",
       "      <td>0.009578</td>\n",
       "      <td>0.842185</td>\n",
       "      <td>322.104561</td>\n",
       "      <td>0.000000</td>\n",
       "      <td>0.763788</td>\n",
       "      <td>242.216778</td>\n",
       "      <td>0.000998</td>\n",
       "    </tr>\n",
       "    <tr>\n",
       "      <th>EN selected feats</th>\n",
       "      <td>0.003240</td>\n",
       "      <td>0.835019</td>\n",
       "      <td>329.336609</td>\n",
       "      <td>0.004421</td>\n",
       "      <td>0.764408</td>\n",
       "      <td>241.898873</td>\n",
       "      <td>0.000000</td>\n",
       "    </tr>\n",
       "  </tbody>\n",
       "</table>\n",
       "</div>"
      ],
      "text/plain": [
       "                   training_time  R2_train  RMSE_train  predict_time_train  \\\n",
       "EN base                 0.009578  0.842185  322.104561            0.000000   \n",
       "EN selected feats       0.003240  0.835019  329.336609            0.004421   \n",
       "\n",
       "                    R2_test   RMSE_test  predict_time_test  \n",
       "EN base            0.763788  242.216778           0.000998  \n",
       "EN selected feats  0.764408  241.898873           0.000000  "
      ]
     },
     "execution_count": 19,
     "metadata": {},
     "output_type": "execute_result"
    }
   ],
   "source": [
    "numeric_features = ['building_age', 'PropertyGFABuilding(s)', 'PropertyGFAParking', 'NumberofFloors'] + \\\n",
    "                   [col for col in data.columns if col.startswith('Type_')]\n",
    "\n",
    "categorical_features = ['PrimaryPropertyType',  'Primary_energy_source', 'Outlier','BuildingType']\n",
    "\n",
    "X = data_RFR.copy(deep=True)\n",
    "y = data['GHGEmissions(MetricTonsCO2e)']\n",
    "\n",
    "X, X_train, X_test, y_train, y_test = transform_dataset(X, y, numeric_features, categorical_features)\n",
    "\n",
    "test_metrics = pd.concat([test_metrics, run_model(X_train, X_test, y_train, y_test,\n",
    "                                                  ElasticNet(random_state=4),'EN selected feats')])\n",
    "test_metrics"
   ]
  },
  {
   "cell_type": "markdown",
   "metadata": {},
   "source": [
    "#### Nouvelle sélection manuelle des variables"
   ]
  },
  {
   "cell_type": "code",
   "execution_count": 20,
   "metadata": {
    "ExecuteTime": {
     "end_time": "2021-09-18T05:37:05.150091Z",
     "start_time": "2021-09-18T05:37:05.046370Z"
    }
   },
   "outputs": [
    {
     "name": "stdout",
     "output_type": "stream",
     "text": [
      "Paramètres du modèle EN new select feats :\n",
      "{'alpha': 1.0,\n",
      " 'copy_X': True,\n",
      " 'fit_intercept': True,\n",
      " 'l1_ratio': 0.5,\n",
      " 'max_iter': 1000,\n",
      " 'normalize': False,\n",
      " 'positive': False,\n",
      " 'precompute': False,\n",
      " 'random_state': 4,\n",
      " 'selection': 'cyclic',\n",
      " 'tol': 0.0001,\n",
      " 'warm_start': False}\n"
     ]
    },
    {
     "data": {
      "text/html": [
       "<div>\n",
       "<style scoped>\n",
       "    .dataframe tbody tr th:only-of-type {\n",
       "        vertical-align: middle;\n",
       "    }\n",
       "\n",
       "    .dataframe tbody tr th {\n",
       "        vertical-align: top;\n",
       "    }\n",
       "\n",
       "    .dataframe thead th {\n",
       "        text-align: right;\n",
       "    }\n",
       "</style>\n",
       "<table border=\"1\" class=\"dataframe\">\n",
       "  <thead>\n",
       "    <tr style=\"text-align: right;\">\n",
       "      <th></th>\n",
       "      <th>training_time</th>\n",
       "      <th>R2_train</th>\n",
       "      <th>RMSE_train</th>\n",
       "      <th>predict_time_train</th>\n",
       "      <th>R2_test</th>\n",
       "      <th>RMSE_test</th>\n",
       "      <th>predict_time_test</th>\n",
       "    </tr>\n",
       "  </thead>\n",
       "  <tbody>\n",
       "    <tr>\n",
       "      <th>EN base</th>\n",
       "      <td>0.009578</td>\n",
       "      <td>0.842185</td>\n",
       "      <td>322.104561</td>\n",
       "      <td>0.000000</td>\n",
       "      <td>0.763788</td>\n",
       "      <td>242.216778</td>\n",
       "      <td>0.000998</td>\n",
       "    </tr>\n",
       "    <tr>\n",
       "      <th>EN selected feats</th>\n",
       "      <td>0.003240</td>\n",
       "      <td>0.835019</td>\n",
       "      <td>329.336609</td>\n",
       "      <td>0.004421</td>\n",
       "      <td>0.764408</td>\n",
       "      <td>241.898873</td>\n",
       "      <td>0.000000</td>\n",
       "    </tr>\n",
       "    <tr>\n",
       "      <th>EN new select feats</th>\n",
       "      <td>0.009131</td>\n",
       "      <td>0.839946</td>\n",
       "      <td>324.382315</td>\n",
       "      <td>0.000000</td>\n",
       "      <td>0.776787</td>\n",
       "      <td>235.458187</td>\n",
       "      <td>0.004345</td>\n",
       "    </tr>\n",
       "  </tbody>\n",
       "</table>\n",
       "</div>"
      ],
      "text/plain": [
       "                     training_time  R2_train  RMSE_train  predict_time_train  \\\n",
       "EN base                   0.009578  0.842185  322.104561            0.000000   \n",
       "EN selected feats         0.003240  0.835019  329.336609            0.004421   \n",
       "EN new select feats       0.009131  0.839946  324.382315            0.000000   \n",
       "\n",
       "                      R2_test   RMSE_test  predict_time_test  \n",
       "EN base              0.763788  242.216778           0.000998  \n",
       "EN selected feats    0.764408  241.898873           0.000000  \n",
       "EN new select feats  0.776787  235.458187           0.004345  "
      ]
     },
     "execution_count": 20,
     "metadata": {},
     "output_type": "execute_result"
    }
   ],
   "source": [
    "data_EN = data_X.drop(columns=['NumberofBuildings', 'NumberofFloors', 'Neighborhood']).copy(deep=True)\n",
    "\n",
    "numeric_features = ['building_age','PropertyGFATotal','PropertyGFAParking', 'PropertyGFABuilding(s)',\n",
    "                    'Latitude', 'Longitude'] + \\\n",
    "                    [col for col in data.columns if col.startswith('Type_')]\n",
    "\n",
    "categorical_features = ['PrimaryPropertyType', 'CouncilDistrictCode', 'Primary_energy_source',\n",
    "                        'Secondary_energy_source','BuildingType', 'Outlier', 'Electricity',\n",
    "                        'Steam', 'NaturalGas', 'OtherEnergy']\n",
    "\n",
    "X = data_EN.fillna(0)\n",
    "y = data['GHGEmissions(MetricTonsCO2e)']\n",
    "\n",
    "X, X_train, X_test, y_train, y_test = transform_dataset(X, y, numeric_features, categorical_features)\n",
    "test_metrics = pd.concat([test_metrics, run_model(X_train, X_test, y_train, y_test, ElasticNet(random_state=4), 'EN new select feats')])\n",
    "test_metrics"
   ]
  },
  {
   "cell_type": "markdown",
   "metadata": {},
   "source": [
    "#### GridSearchCV"
   ]
  },
  {
   "cell_type": "code",
   "execution_count": 21,
   "metadata": {
    "ExecuteTime": {
     "end_time": "2021-09-18T05:39:33.418022Z",
     "start_time": "2021-09-18T05:37:08.079730Z"
    }
   },
   "outputs": [
    {
     "name": "stdout",
     "output_type": "stream",
     "text": [
      "Fitting 5 folds for each of 8000 candidates, totalling 40000 fits\n"
     ]
    },
    {
     "name": "stderr",
     "output_type": "stream",
     "text": [
      "[Parallel(n_jobs=-1)]: Using backend LokyBackend with 8 concurrent workers.\n",
      "[Parallel(n_jobs=-1)]: Done  25 tasks      | elapsed:    0.6s\n",
      "[Parallel(n_jobs=-1)]: Done 384 tasks      | elapsed:    7.0s\n",
      "[Parallel(n_jobs=-1)]: Done 1196 tasks      | elapsed:   17.0s\n",
      "[Parallel(n_jobs=-1)]: Done 2328 tasks      | elapsed:   24.5s\n",
      "[Parallel(n_jobs=-1)]: Done 3788 tasks      | elapsed:   32.1s\n",
      "[Parallel(n_jobs=-1)]: Done 9304 tasks      | elapsed:   51.8s\n",
      "[Parallel(n_jobs=-1)]: Done 17736 tasks      | elapsed:  1.3min\n",
      "[Parallel(n_jobs=-1)]: Done 27448 tasks      | elapsed:  1.8min\n",
      "[Parallel(n_jobs=-1)]: Done 38472 tasks      | elapsed:  2.3min\n"
     ]
    },
    {
     "name": "stdout",
     "output_type": "stream",
     "text": [
      "{'alpha': 0.99, 'l1_ratio': 0.6000000000000001, 'tol': 0.5}\n",
      "Paramètres du modèle EN gridsearchCV :\n",
      "{'alpha': 0.99,\n",
      " 'copy_X': True,\n",
      " 'fit_intercept': True,\n",
      " 'l1_ratio': 0.6000000000000001,\n",
      " 'max_iter': 1000,\n",
      " 'normalize': False,\n",
      " 'positive': False,\n",
      " 'precompute': False,\n",
      " 'random_state': 4,\n",
      " 'selection': 'cyclic',\n",
      " 'tol': 0.5,\n",
      " 'warm_start': False}\n"
     ]
    },
    {
     "name": "stderr",
     "output_type": "stream",
     "text": [
      "[Parallel(n_jobs=-1)]: Done 40000 out of 40000 | elapsed:  2.4min finished\n"
     ]
    },
    {
     "data": {
      "text/html": [
       "<div>\n",
       "<style scoped>\n",
       "    .dataframe tbody tr th:only-of-type {\n",
       "        vertical-align: middle;\n",
       "    }\n",
       "\n",
       "    .dataframe tbody tr th {\n",
       "        vertical-align: top;\n",
       "    }\n",
       "\n",
       "    .dataframe thead th {\n",
       "        text-align: right;\n",
       "    }\n",
       "</style>\n",
       "<table border=\"1\" class=\"dataframe\">\n",
       "  <thead>\n",
       "    <tr style=\"text-align: right;\">\n",
       "      <th></th>\n",
       "      <th>training_time</th>\n",
       "      <th>R2_train</th>\n",
       "      <th>RMSE_train</th>\n",
       "      <th>predict_time_train</th>\n",
       "      <th>R2_test</th>\n",
       "      <th>RMSE_test</th>\n",
       "      <th>predict_time_test</th>\n",
       "    </tr>\n",
       "  </thead>\n",
       "  <tbody>\n",
       "    <tr>\n",
       "      <th>EN base</th>\n",
       "      <td>0.009578</td>\n",
       "      <td>0.842185</td>\n",
       "      <td>322.104561</td>\n",
       "      <td>0.000000</td>\n",
       "      <td>0.763788</td>\n",
       "      <td>242.216778</td>\n",
       "      <td>0.000998</td>\n",
       "    </tr>\n",
       "    <tr>\n",
       "      <th>EN selected feats</th>\n",
       "      <td>0.003240</td>\n",
       "      <td>0.835019</td>\n",
       "      <td>329.336609</td>\n",
       "      <td>0.004421</td>\n",
       "      <td>0.764408</td>\n",
       "      <td>241.898873</td>\n",
       "      <td>0.000000</td>\n",
       "    </tr>\n",
       "    <tr>\n",
       "      <th>EN new select feats</th>\n",
       "      <td>0.009131</td>\n",
       "      <td>0.839946</td>\n",
       "      <td>324.382315</td>\n",
       "      <td>0.000000</td>\n",
       "      <td>0.776787</td>\n",
       "      <td>235.458187</td>\n",
       "      <td>0.004345</td>\n",
       "    </tr>\n",
       "    <tr>\n",
       "      <th>EN gridsearchCV</th>\n",
       "      <td>145.307682</td>\n",
       "      <td>0.864648</td>\n",
       "      <td>298.301432</td>\n",
       "      <td>0.004001</td>\n",
       "      <td>0.770906</td>\n",
       "      <td>238.539670</td>\n",
       "      <td>0.000000</td>\n",
       "    </tr>\n",
       "  </tbody>\n",
       "</table>\n",
       "</div>"
      ],
      "text/plain": [
       "                     training_time  R2_train  RMSE_train  predict_time_train  \\\n",
       "EN base                   0.009578  0.842185  322.104561            0.000000   \n",
       "EN selected feats         0.003240  0.835019  329.336609            0.004421   \n",
       "EN new select feats       0.009131  0.839946  324.382315            0.000000   \n",
       "EN gridsearchCV         145.307682  0.864648  298.301432            0.004001   \n",
       "\n",
       "                      R2_test   RMSE_test  predict_time_test  \n",
       "EN base              0.763788  242.216778           0.000998  \n",
       "EN selected feats    0.764408  241.898873           0.000000  \n",
       "EN new select feats  0.776787  235.458187           0.004345  \n",
       "EN gridsearchCV      0.770906  238.539670           0.000000  "
      ]
     },
     "execution_count": 21,
     "metadata": {},
     "output_type": "execute_result"
    }
   ],
   "source": [
    "param_grid = {\"tol\" : [0.001, 0.01, 0.1, 0.5],\n",
    "              \"alpha\": np.arange(0.0, 1.0, 0.01),\n",
    "              \"l1_ratio\": np.arange(0.0, 1.0, 0.05)}\n",
    "\n",
    "en = ElasticNet(random_state=4)\n",
    "grid_search = GridSearchCV(estimator = en, param_grid = param_grid, \n",
    "                          cv = 5, n_jobs = -1, verbose=2)\n",
    "start = time()\n",
    "grid_search.fit(X_train, y_train)\n",
    "train_time = time() - start\n",
    "print(grid_search.best_params_)\n",
    "best_grid = grid_search.best_estimator_\n",
    "\n",
    "test_metrics = pd.concat([test_metrics, run_model(X_train, X_test, y_train, y_test, best_grid,\n",
    "                                                      'EN gridsearchCV', train_time)])\n",
    "test_metrics"
   ]
  },
  {
   "cell_type": "markdown",
   "metadata": {},
   "source": [
    "### Evaluation de l'intérêt de l'EnergyStarScore"
   ]
  },
  {
   "cell_type": "code",
   "execution_count": 36,
   "metadata": {
    "ExecuteTime": {
     "end_time": "2021-09-18T05:49:35.997663Z",
     "start_time": "2021-09-18T05:49:35.930345Z"
    }
   },
   "outputs": [
    {
     "name": "stdout",
     "output_type": "stream",
     "text": [
      "(1137, 62)\n",
      "Paramètres du modèle ElasticNet sans ESS :\n",
      "{'alpha': 1.0,\n",
      " 'copy_X': True,\n",
      " 'fit_intercept': True,\n",
      " 'l1_ratio': 0.5,\n",
      " 'max_iter': 1000,\n",
      " 'normalize': False,\n",
      " 'positive': False,\n",
      " 'precompute': False,\n",
      " 'random_state': 4,\n",
      " 'selection': 'cyclic',\n",
      " 'tol': 0.0001,\n",
      " 'warm_start': False}\n"
     ]
    }
   ],
   "source": [
    "df = data[(~data['ENERGYSTARScore'].isna()) & (data['SourceEUIWN(kBtu/sf)'] >0)].copy()\n",
    "print(df.shape)\n",
    "\n",
    "data_no_ESS = df.drop(columns=['SiteEnergyUse(kBtu)', 'GHGEmissions(MetricTonsCO2e)', 'SourceEUIWN(kBtu/sf)',\n",
    "                               'ENERGYSTARScore', 'Outlier_bool', 'Electricity_ratio', 'Steam_ratio', 'NaturalGas_ratio',\n",
    "                               'OtherEnergy_ratio']).fillna(0).copy(deep=True)\n",
    "\n",
    "numeric_features = ['building_age','PropertyGFATotal','PropertyGFAParking', 'PropertyGFABuilding(s)',\n",
    "                    'NumberofFloors', 'NumberofBuildings', 'Latitude', 'Longitude'] + \\\n",
    "                    [col for col in df.columns if col.startswith('Type_')]\n",
    "\n",
    "categorical_features = ['PrimaryPropertyType', 'Neighborhood', 'CouncilDistrictCode', 'Primary_energy_source',\n",
    "                        'Secondary_energy_source','Outlier','BuildingType','Electricity', 'Steam', 'NaturalGas',\n",
    "                        'OtherEnergy']\n",
    "\n",
    "X = data_no_ESS.copy(deep=True)\n",
    "y = df['GHGEmissions(MetricTonsCO2e)']\n",
    "\n",
    "X, X_train, X_test, y_train, y_test = transform_dataset(X, y, numeric_features, categorical_features)\n",
    "test_ESS = run_model(X_train, X_test, y_train, y_test, ElasticNet(random_state=4), 'ElasticNet sans ESS')"
   ]
  },
  {
   "cell_type": "code",
   "execution_count": 37,
   "metadata": {
    "ExecuteTime": {
     "end_time": "2021-09-18T05:51:14.142022Z",
     "start_time": "2021-09-18T05:49:36.216169Z"
    }
   },
   "outputs": [
    {
     "name": "stdout",
     "output_type": "stream",
     "text": [
      "Fitting 5 folds for each of 8000 candidates, totalling 40000 fits\n"
     ]
    },
    {
     "name": "stderr",
     "output_type": "stream",
     "text": [
      "[Parallel(n_jobs=-1)]: Using backend LokyBackend with 8 concurrent workers.\n",
      "[Parallel(n_jobs=-1)]: Done  25 tasks      | elapsed:    0.4s\n",
      "[Parallel(n_jobs=-1)]: Done 432 tasks      | elapsed:    4.9s\n",
      "[Parallel(n_jobs=-1)]: Done 1244 tasks      | elapsed:    9.3s\n",
      "[Parallel(n_jobs=-1)]: Done 4840 tasks      | elapsed:   19.6s\n",
      "[Parallel(n_jobs=-1)]: Done 10680 tasks      | elapsed:   32.6s\n",
      "[Parallel(n_jobs=-1)]: Done 17800 tasks      | elapsed:   48.3s\n",
      "[Parallel(n_jobs=-1)]: Done 26232 tasks      | elapsed:  1.1min\n",
      "[Parallel(n_jobs=-1)]: Done 35944 tasks      | elapsed:  1.5min\n"
     ]
    },
    {
     "name": "stdout",
     "output_type": "stream",
     "text": [
      "{'alpha': 0.99, 'l1_ratio': 0.9500000000000001, 'tol': 0.01}\n",
      "Paramètres du modèle EN sans ESS gridsearchCV :\n",
      "{'alpha': 0.99,\n",
      " 'copy_X': True,\n",
      " 'fit_intercept': True,\n",
      " 'l1_ratio': 0.9500000000000001,\n",
      " 'max_iter': 1000,\n",
      " 'normalize': False,\n",
      " 'positive': False,\n",
      " 'precompute': False,\n",
      " 'random_state': 4,\n",
      " 'selection': 'cyclic',\n",
      " 'tol': 0.01,\n",
      " 'warm_start': False}\n"
     ]
    },
    {
     "name": "stderr",
     "output_type": "stream",
     "text": [
      "[Parallel(n_jobs=-1)]: Done 40000 out of 40000 | elapsed:  1.6min finished\n"
     ]
    },
    {
     "data": {
      "text/html": [
       "<div>\n",
       "<style scoped>\n",
       "    .dataframe tbody tr th:only-of-type {\n",
       "        vertical-align: middle;\n",
       "    }\n",
       "\n",
       "    .dataframe tbody tr th {\n",
       "        vertical-align: top;\n",
       "    }\n",
       "\n",
       "    .dataframe thead th {\n",
       "        text-align: right;\n",
       "    }\n",
       "</style>\n",
       "<table border=\"1\" class=\"dataframe\">\n",
       "  <thead>\n",
       "    <tr style=\"text-align: right;\">\n",
       "      <th></th>\n",
       "      <th>training_time</th>\n",
       "      <th>R2_train</th>\n",
       "      <th>RMSE_train</th>\n",
       "      <th>predict_time_train</th>\n",
       "      <th>R2_test</th>\n",
       "      <th>RMSE_test</th>\n",
       "      <th>predict_time_test</th>\n",
       "    </tr>\n",
       "  </thead>\n",
       "  <tbody>\n",
       "    <tr>\n",
       "      <th>ElasticNet sans ESS</th>\n",
       "      <td>0.006476</td>\n",
       "      <td>0.879698</td>\n",
       "      <td>278.600360</td>\n",
       "      <td>0.001288</td>\n",
       "      <td>0.860672</td>\n",
       "      <td>310.867326</td>\n",
       "      <td>0.0</td>\n",
       "    </tr>\n",
       "    <tr>\n",
       "      <th>EN sans ESS gridsearchCV</th>\n",
       "      <td>97.899080</td>\n",
       "      <td>0.960882</td>\n",
       "      <td>158.866001</td>\n",
       "      <td>0.001424</td>\n",
       "      <td>0.945954</td>\n",
       "      <td>193.614103</td>\n",
       "      <td>0.0</td>\n",
       "    </tr>\n",
       "  </tbody>\n",
       "</table>\n",
       "</div>"
      ],
      "text/plain": [
       "                          training_time  R2_train  RMSE_train  \\\n",
       "ElasticNet sans ESS            0.006476  0.879698  278.600360   \n",
       "EN sans ESS gridsearchCV      97.899080  0.960882  158.866001   \n",
       "\n",
       "                          predict_time_train   R2_test   RMSE_test  \\\n",
       "ElasticNet sans ESS                 0.001288  0.860672  310.867326   \n",
       "EN sans ESS gridsearchCV            0.001424  0.945954  193.614103   \n",
       "\n",
       "                          predict_time_test  \n",
       "ElasticNet sans ESS                     0.0  \n",
       "EN sans ESS gridsearchCV                0.0  "
      ]
     },
     "execution_count": 37,
     "metadata": {},
     "output_type": "execute_result"
    }
   ],
   "source": [
    "param_grid = {\"tol\" : [0.001, 0.01, 0.1, 0.5],\n",
    "              \"alpha\": np.arange(0.0, 1.0, 0.01),\n",
    "              \"l1_ratio\": np.arange(0.0, 1.0, 0.05)}\n",
    "\n",
    "en = ElasticNet(random_state=4)\n",
    "grid_search = GridSearchCV(estimator = en, param_grid = param_grid, \n",
    "                          cv = 5, n_jobs = -1, verbose=2)\n",
    "start = time()\n",
    "grid_search.fit(X_train, y_train)\n",
    "train_time = time() - start\n",
    "print(grid_search.best_params_)\n",
    "best_grid = grid_search.best_estimator_\n",
    "\n",
    "test_ESS = pd.concat([test_ESS, run_model(X_train, X_test, y_train, y_test, best_grid,\n",
    "                                                      'EN sans ESS gridsearchCV', train_time)])\n",
    "test_ESS"
   ]
  },
  {
   "cell_type": "code",
   "execution_count": 38,
   "metadata": {
    "ExecuteTime": {
     "end_time": "2021-09-18T05:51:14.214796Z",
     "start_time": "2021-09-18T05:51:14.144195Z"
    }
   },
   "outputs": [
    {
     "name": "stdout",
     "output_type": "stream",
     "text": [
      "Paramètres du modèle ElasticNet avec ESS :\n",
      "{'alpha': 1.0,\n",
      " 'copy_X': True,\n",
      " 'fit_intercept': True,\n",
      " 'l1_ratio': 0.5,\n",
      " 'max_iter': 1000,\n",
      " 'normalize': False,\n",
      " 'positive': False,\n",
      " 'precompute': False,\n",
      " 'random_state': 4,\n",
      " 'selection': 'cyclic',\n",
      " 'tol': 0.0001,\n",
      " 'warm_start': False}\n"
     ]
    },
    {
     "data": {
      "text/html": [
       "<div>\n",
       "<style scoped>\n",
       "    .dataframe tbody tr th:only-of-type {\n",
       "        vertical-align: middle;\n",
       "    }\n",
       "\n",
       "    .dataframe tbody tr th {\n",
       "        vertical-align: top;\n",
       "    }\n",
       "\n",
       "    .dataframe thead th {\n",
       "        text-align: right;\n",
       "    }\n",
       "</style>\n",
       "<table border=\"1\" class=\"dataframe\">\n",
       "  <thead>\n",
       "    <tr style=\"text-align: right;\">\n",
       "      <th></th>\n",
       "      <th>training_time</th>\n",
       "      <th>R2_train</th>\n",
       "      <th>RMSE_train</th>\n",
       "      <th>predict_time_train</th>\n",
       "      <th>R2_test</th>\n",
       "      <th>RMSE_test</th>\n",
       "      <th>predict_time_test</th>\n",
       "    </tr>\n",
       "  </thead>\n",
       "  <tbody>\n",
       "    <tr>\n",
       "      <th>ElasticNet sans ESS</th>\n",
       "      <td>0.006476</td>\n",
       "      <td>0.879698</td>\n",
       "      <td>278.600360</td>\n",
       "      <td>0.001288</td>\n",
       "      <td>0.860672</td>\n",
       "      <td>310.867326</td>\n",
       "      <td>0.0</td>\n",
       "    </tr>\n",
       "    <tr>\n",
       "      <th>EN sans ESS gridsearchCV</th>\n",
       "      <td>97.899080</td>\n",
       "      <td>0.960882</td>\n",
       "      <td>158.866001</td>\n",
       "      <td>0.001424</td>\n",
       "      <td>0.945954</td>\n",
       "      <td>193.614103</td>\n",
       "      <td>0.0</td>\n",
       "    </tr>\n",
       "    <tr>\n",
       "      <th>ElasticNet avec ESS</th>\n",
       "      <td>0.005359</td>\n",
       "      <td>0.882309</td>\n",
       "      <td>275.559733</td>\n",
       "      <td>0.001009</td>\n",
       "      <td>0.846206</td>\n",
       "      <td>326.606893</td>\n",
       "      <td>0.0</td>\n",
       "    </tr>\n",
       "  </tbody>\n",
       "</table>\n",
       "</div>"
      ],
      "text/plain": [
       "                          training_time  R2_train  RMSE_train  \\\n",
       "ElasticNet sans ESS            0.006476  0.879698  278.600360   \n",
       "EN sans ESS gridsearchCV      97.899080  0.960882  158.866001   \n",
       "ElasticNet avec ESS            0.005359  0.882309  275.559733   \n",
       "\n",
       "                          predict_time_train   R2_test   RMSE_test  \\\n",
       "ElasticNet sans ESS                 0.001288  0.860672  310.867326   \n",
       "EN sans ESS gridsearchCV            0.001424  0.945954  193.614103   \n",
       "ElasticNet avec ESS                 0.001009  0.846206  326.606893   \n",
       "\n",
       "                          predict_time_test  \n",
       "ElasticNet sans ESS                     0.0  \n",
       "EN sans ESS gridsearchCV                0.0  \n",
       "ElasticNet avec ESS                     0.0  "
      ]
     },
     "execution_count": 38,
     "metadata": {},
     "output_type": "execute_result"
    }
   ],
   "source": [
    "data_ESS = df.drop(columns=['SiteEnergyUse(kBtu)', 'GHGEmissions(MetricTonsCO2e)', 'SourceEUIWN(kBtu/sf)',\n",
    "                            'Outlier_bool', 'Electricity_ratio', 'Steam_ratio', 'NaturalGas_ratio',\n",
    "                            'OtherEnergy_ratio']).fillna(0).copy(deep=True)\n",
    "\n",
    "numeric_features = ['building_age','PropertyGFATotal','PropertyGFAParking', 'PropertyGFABuilding(s)',\n",
    "                    'NumberofFloors', 'NumberofBuildings', 'Latitude', 'Longitude', 'ENERGYSTARScore'] + \\\n",
    "                    [col for col in df.columns if col.startswith('Type_')]\n",
    "\n",
    "X = data_ESS.copy(deep=True)\n",
    "y = df['GHGEmissions(MetricTonsCO2e)']\n",
    "\n",
    "X, X_train, X_test, y_train, y_test = transform_dataset(X, y, numeric_features, categorical_features)\n",
    "test_ESS = pd.concat([test_ESS, run_model(X_train, X_test, y_train, y_test,\n",
    "                                          ElasticNet(random_state=4), 'ElasticNet avec ESS')])\n",
    "test_ESS"
   ]
  },
  {
   "cell_type": "code",
   "execution_count": 39,
   "metadata": {
    "ExecuteTime": {
     "end_time": "2021-09-18T05:52:51.195881Z",
     "start_time": "2021-09-18T05:51:14.219505Z"
    }
   },
   "outputs": [
    {
     "name": "stdout",
     "output_type": "stream",
     "text": [
      "Fitting 5 folds for each of 8000 candidates, totalling 40000 fits\n"
     ]
    },
    {
     "name": "stderr",
     "output_type": "stream",
     "text": [
      "[Parallel(n_jobs=-1)]: Using backend LokyBackend with 8 concurrent workers.\n",
      "[Parallel(n_jobs=-1)]: Done  34 tasks      | elapsed:    0.4s\n",
      "[Parallel(n_jobs=-1)]: Done 504 tasks      | elapsed:    5.0s\n",
      "[Parallel(n_jobs=-1)]: Done 1592 tasks      | elapsed:    9.9s\n",
      "[Parallel(n_jobs=-1)]: Done 3856 tasks      | elapsed:   16.2s\n",
      "[Parallel(n_jobs=-1)]: Done 6776 tasks      | elapsed:   23.2s\n",
      "[Parallel(n_jobs=-1)]: Done 10336 tasks      | elapsed:   31.5s\n",
      "[Parallel(n_jobs=-1)]: Done 18528 tasks      | elapsed:   48.8s\n",
      "[Parallel(n_jobs=-1)]: Done 28240 tasks      | elapsed:  1.2min\n",
      "[Parallel(n_jobs=-1)]: Done 39264 tasks      | elapsed:  1.6min\n"
     ]
    },
    {
     "name": "stdout",
     "output_type": "stream",
     "text": [
      "{'alpha': 0.99, 'l1_ratio': 0.9500000000000001, 'tol': 0.001}\n",
      "Paramètres du modèle EN avec ESS gridsearchCV :\n",
      "{'alpha': 0.99,\n",
      " 'copy_X': True,\n",
      " 'fit_intercept': True,\n",
      " 'l1_ratio': 0.9500000000000001,\n",
      " 'max_iter': 1000,\n",
      " 'normalize': False,\n",
      " 'positive': False,\n",
      " 'precompute': False,\n",
      " 'random_state': 4,\n",
      " 'selection': 'cyclic',\n",
      " 'tol': 0.001,\n",
      " 'warm_start': False}\n"
     ]
    },
    {
     "name": "stderr",
     "output_type": "stream",
     "text": [
      "[Parallel(n_jobs=-1)]: Done 40000 out of 40000 | elapsed:  1.6min finished\n"
     ]
    },
    {
     "data": {
      "text/html": [
       "<div>\n",
       "<style scoped>\n",
       "    .dataframe tbody tr th:only-of-type {\n",
       "        vertical-align: middle;\n",
       "    }\n",
       "\n",
       "    .dataframe tbody tr th {\n",
       "        vertical-align: top;\n",
       "    }\n",
       "\n",
       "    .dataframe thead th {\n",
       "        text-align: right;\n",
       "    }\n",
       "</style>\n",
       "<table border=\"1\" class=\"dataframe\">\n",
       "  <thead>\n",
       "    <tr style=\"text-align: right;\">\n",
       "      <th></th>\n",
       "      <th>training_time</th>\n",
       "      <th>R2_train</th>\n",
       "      <th>RMSE_train</th>\n",
       "      <th>predict_time_train</th>\n",
       "      <th>R2_test</th>\n",
       "      <th>RMSE_test</th>\n",
       "      <th>predict_time_test</th>\n",
       "    </tr>\n",
       "  </thead>\n",
       "  <tbody>\n",
       "    <tr>\n",
       "      <th>ElasticNet sans ESS</th>\n",
       "      <td>0.006476</td>\n",
       "      <td>0.879698</td>\n",
       "      <td>278.600360</td>\n",
       "      <td>0.001288</td>\n",
       "      <td>0.860672</td>\n",
       "      <td>310.867326</td>\n",
       "      <td>0.000000</td>\n",
       "    </tr>\n",
       "    <tr>\n",
       "      <th>EN sans ESS gridsearchCV</th>\n",
       "      <td>97.899080</td>\n",
       "      <td>0.960882</td>\n",
       "      <td>158.866001</td>\n",
       "      <td>0.001424</td>\n",
       "      <td>0.945954</td>\n",
       "      <td>193.614103</td>\n",
       "      <td>0.000000</td>\n",
       "    </tr>\n",
       "    <tr>\n",
       "      <th>ElasticNet avec ESS</th>\n",
       "      <td>0.005359</td>\n",
       "      <td>0.882309</td>\n",
       "      <td>275.559733</td>\n",
       "      <td>0.001009</td>\n",
       "      <td>0.846206</td>\n",
       "      <td>326.606893</td>\n",
       "      <td>0.000000</td>\n",
       "    </tr>\n",
       "    <tr>\n",
       "      <th>EN avec ESS gridsearchCV</th>\n",
       "      <td>96.941208</td>\n",
       "      <td>0.962289</td>\n",
       "      <td>155.983684</td>\n",
       "      <td>0.000000</td>\n",
       "      <td>0.927496</td>\n",
       "      <td>224.252316</td>\n",
       "      <td>0.004034</td>\n",
       "    </tr>\n",
       "  </tbody>\n",
       "</table>\n",
       "</div>"
      ],
      "text/plain": [
       "                          training_time  R2_train  RMSE_train  \\\n",
       "ElasticNet sans ESS            0.006476  0.879698  278.600360   \n",
       "EN sans ESS gridsearchCV      97.899080  0.960882  158.866001   \n",
       "ElasticNet avec ESS            0.005359  0.882309  275.559733   \n",
       "EN avec ESS gridsearchCV      96.941208  0.962289  155.983684   \n",
       "\n",
       "                          predict_time_train   R2_test   RMSE_test  \\\n",
       "ElasticNet sans ESS                 0.001288  0.860672  310.867326   \n",
       "EN sans ESS gridsearchCV            0.001424  0.945954  193.614103   \n",
       "ElasticNet avec ESS                 0.001009  0.846206  326.606893   \n",
       "EN avec ESS gridsearchCV            0.000000  0.927496  224.252316   \n",
       "\n",
       "                          predict_time_test  \n",
       "ElasticNet sans ESS                0.000000  \n",
       "EN sans ESS gridsearchCV           0.000000  \n",
       "ElasticNet avec ESS                0.000000  \n",
       "EN avec ESS gridsearchCV           0.004034  "
      ]
     },
     "execution_count": 39,
     "metadata": {},
     "output_type": "execute_result"
    }
   ],
   "source": [
    "param_grid = {\"tol\" : [0.001, 0.01, 0.1, 0.5],\n",
    "              \"alpha\": np.arange(0.0, 1.0, 0.01),\n",
    "              \"l1_ratio\": np.arange(0.0, 1.0, 0.05)}\n",
    "\n",
    "en = ElasticNet(random_state=4)\n",
    "grid_search = GridSearchCV(estimator = en, param_grid = param_grid, \n",
    "                          cv = 5, n_jobs = -1, verbose=2)\n",
    "start = time()\n",
    "grid_search.fit(X_train, y_train)\n",
    "train_time = time() - start\n",
    "print(grid_search.best_params_)\n",
    "best_grid = grid_search.best_estimator_\n",
    "\n",
    "test_ESS = pd.concat([test_ESS, run_model(X_train, X_test, y_train, y_test, best_grid,\n",
    "                                                      'EN avec ESS gridsearchCV', train_time)])\n",
    "test_ESS"
   ]
  },
  {
   "cell_type": "code",
   "execution_count": 40,
   "metadata": {
    "ExecuteTime": {
     "end_time": "2021-09-18T05:52:51.596582Z",
     "start_time": "2021-09-18T05:52:51.201192Z"
    }
   },
   "outputs": [
    {
     "data": {
      "image/png": "[encoded data removed]",
      "text/plain": [
       "<Figure size 864x432 with 1 Axes>"
      ]
     },
     "metadata": {},
     "output_type": "display_data"
    }
   ],
   "source": [
    "feature_importance = pd.Series(index = X.columns, data = np.abs(best_grid.coef_))\n",
    "feature_importance.sort_values().tail(15).plot(kind = 'bar', figsize = (12,6))\n",
    "plt.title('Importance des variables pour le modèle ElasticNet', fontsize=15);"
   ]
  },
  {
   "cell_type": "code",
   "execution_count": null,
   "metadata": {},
   "outputs": [],
   "source": []
  }
 ],
 "metadata": {
  "kernelspec": {
   "display_name": "Python 3",
   "language": "python",
   "name": "python3"
  },
  "language_info": {
   "codemirror_mode": {
    "name": "ipython",
    "version": 3
   },
   "file_extension": ".py",
   "mimetype": "text/x-python",
   "name": "python",
   "nbconvert_exporter": "python",
   "pygments_lexer": "ipython3",
   "version": "3.8.5"
  },
  "toc": {
   "base_numbering": 1,
   "nav_menu": {
    "height": "249px",
    "width": "278px"
   },
   "number_sections": true,
   "sideBar": true,
   "skip_h1_title": true,
   "title_cell": "Table of Contents",
   "title_sidebar": "Contents",
   "toc_cell": false,
   "toc_position": {},
   "toc_section_display": true,
   "toc_window_display": false
  }
 },
 "nbformat": 4,
 "nbformat_minor": 4
}
